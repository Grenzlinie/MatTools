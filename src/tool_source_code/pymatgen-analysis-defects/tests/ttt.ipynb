{
 "cells": [
  {
   "cell_type": "code",
   "execution_count": 1,
   "metadata": {},
   "outputs": [],
   "source": [
    "import copy\n",
    "import os\n",
    "\n",
    "import numpy as np\n",
    "import pytest\n",
    "from matplotlib import pyplot as plt\n",
    "from pymatgen.analysis.defects.core import Interstitial, NamedDefect\n",
    "from pymatgen.analysis.defects.corrections.freysoldt import plot_plnr_avg\n",
    "from pymatgen.analysis.defects.thermo import (\n",
    "    Composition,\n",
    "    ComputedEntry,\n",
    "    DefectEntry,\n",
    "    FormationEnergyDiagram,\n",
    "    MultiFormationEnergyDiagram,\n",
    "    ensure_stable_bulk,\n",
    "    get_lower_envelope,\n",
    "    get_transitions,\n",
    "    group_defect_entries,\n",
    "    plot_formation_energy_diagrams,\n",
    ")\n",
    "from pymatgen.analysis.phase_diagram import PhaseDiagram\n",
    "from pymatgen.core import Element, PeriodicSite"
   ]
  },
  {
   "cell_type": "code",
   "execution_count": 2,
   "metadata": {},
   "outputs": [],
   "source": [
    "from collections import defaultdict\n",
    "from pathlib import Path\n",
    "\n",
    "import pytest\n",
    "from monty.serialization import loadfn\n",
    "from pymatgen.analysis.defects.core import PeriodicSite, Substitution\n",
    "from pymatgen.analysis.defects.thermo import DefectEntry, FormationEnergyDiagram\n",
    "from pymatgen.analysis.phase_diagram import PhaseDiagram\n",
    "from pymatgen.core import Element, Structure\n",
    "from pymatgen.core.periodic_table import Specie\n",
    "from pymatgen.io.vasp.outputs import WSWQ, Chgcar, Locpot, Procar, Vasprun"
   ]
  },
  {
   "cell_type": "code",
   "execution_count": 3,
   "metadata": {},
   "outputs": [],
   "source": [
    "def test_dir():\n",
    "    return Path('./test_files/')"
   ]
  },
  {
   "cell_type": "code",
   "execution_count": 4,
   "metadata": {},
   "outputs": [],
   "source": [
    "def gan_struct(test_dir):\n",
    "    return Structure.from_file(test_dir / \"GaN.vasp\")"
   ]
  },
  {
   "cell_type": "code",
   "execution_count": 6,
   "metadata": {},
   "outputs": [
    {
     "name": "stdout",
     "output_type": "stream",
     "text": [
      "N_{ads}\n"
     ]
    },
    {
     "name": "stderr",
     "output_type": "stream",
     "text": [
      "/opt/anaconda3/envs/mattoolben/lib/python3.13/site-packages/pymatgen/core/structure.py:3083: EncodingWarning: We strongly encourage explicit `encoding`, and we would use UTF-8 by default as per PEP 686\n",
      "  with zopen(filename, mode=\"rt\", errors=\"replace\") as file:\n"
     ]
    }
   ],
   "source": [
    "from pymatgen.analysis.defects.core import (\n",
    "    Adsorbate,\n",
    ")\n",
    "s = gan_struct(test_dir())\n",
    "ads_fpos = [0, 0, 0.75]\n",
    "n_site = PeriodicSite(Specie(\"N\"), ads_fpos, s.lattice)\n",
    "ads = Adsorbate(s, n_site)\n",
    "print(ads.name)"
   ]
  },
  {
   "cell_type": "code",
   "execution_count": 5,
   "metadata": {},
   "outputs": [],
   "source": [
    "def data_Mg_Ga(test_dir):\n",
    "    \"\"\"Get the data in the following format:\n",
    "    {\n",
    "        \"bulk_sc\": {\n",
    "            \"vasp_run\": Vasprun,\n",
    "            \"locpot\": Locpot,\n",
    "        },\n",
    "        \"q=1\": {\n",
    "            \"vasp_run\": Vasprun,\n",
    "            \"locpot\": Locpot,\n",
    "        },\n",
    "        ...\n",
    "    }.\n",
    "    \"\"\"\n",
    "    root_dir = test_dir / \"Mg_Ga\"\n",
    "    data = defaultdict(dict)\n",
    "    for fold in root_dir.glob(\"./*\"):\n",
    "        if not fold.is_dir():\n",
    "            continue\n",
    "        data[fold.name] = {\n",
    "            \"vasprun\": Vasprun(fold / \"vasprun.xml.gz\"),\n",
    "            \"locpot\": Locpot.from_file(fold / \"LOCPOT.gz\"),\n",
    "        }\n",
    "    return data"
   ]
  },
  {
   "cell_type": "code",
   "execution_count": 6,
   "metadata": {},
   "outputs": [],
   "source": [
    "def defect_Mg_Ga(gan_struct):\n",
    "    ga_site = gan_struct[0]\n",
    "    mg_site = PeriodicSite(Specie(\"Mg\"), ga_site.frac_coords, gan_struct.lattice)\n",
    "    return Substitution(gan_struct, mg_site)"
   ]
  },
  {
   "cell_type": "code",
   "execution_count": 7,
   "metadata": {},
   "outputs": [],
   "source": [
    "def defect_entries_and_plot_data_Mg_Ga(data_Mg_Ga, defect_Mg_Ga):\n",
    "    bulk_locpot = data_Mg_Ga[\"bulk_sc\"][\"locpot\"]\n",
    "\n",
    "    def get_data(q):\n",
    "        computed_entry = data_Mg_Ga[f\"q={q}\"][\"vasprun\"].get_computed_entry(\n",
    "            inc_structure=True\n",
    "        )\n",
    "        defect_locpot = data_Mg_Ga[f\"q={q}\"][\"locpot\"]\n",
    "\n",
    "        def_entry = DefectEntry(\n",
    "            defect=defect_Mg_Ga, charge_state=q, sc_entry=computed_entry\n",
    "        )\n",
    "        frey_summary = def_entry.get_freysoldt_correction(\n",
    "            defect_locpot=defect_locpot, bulk_locpot=bulk_locpot, dielectric=14\n",
    "        )\n",
    "        return def_entry, frey_summary\n",
    "\n",
    "    defect_entries = dict()\n",
    "    plot_data = dict()\n",
    "    for qq in [-2, -1, 0, 1]:\n",
    "        defect_entry, frey_summary = get_data(qq)\n",
    "        defect_entries[qq] = defect_entry\n",
    "        plot_data[qq] = frey_summary.metadata[\"plot_data\"]\n",
    "    return defect_entries, plot_data"
   ]
  },
  {
   "cell_type": "code",
   "execution_count": 8,
   "metadata": {},
   "outputs": [],
   "source": [
    "def test_defect_entry(defect_entries_and_plot_data_Mg_Ga, data_Mg_Ga) -> None:\n",
    "    defect_entries, plot_data = defect_entries_and_plot_data_Mg_Ga\n",
    "\n",
    "    def_entry = defect_entries[0]\n",
    "    assert def_entry.corrections[\"freysoldt\"] == pytest.approx(0.00, abs=1e-4)\n",
    "\n",
    "    # test that the plotting code runs\n",
    "    plot_plnr_avg(plot_data[0][1])\n",
    "    plot_plnr_avg(defect_entries[1].corrections_metadata[\"freysoldt\"][\"plot_data\"][1])\n",
    "\n",
    "    vr1 = plot_data[0][1][\"pot_plot_data\"][\"Vr\"]\n",
    "    vr2 = defect_entries[0].corrections_metadata[\"freysoldt\"][\"plot_data\"][1][\n",
    "        \"pot_plot_data\"\n",
    "    ][\"Vr\"]\n",
    "    assert np.allclose(vr1, vr2)\n",
    "\n",
    "    bulk_vasprun = data_Mg_Ga[\"bulk_sc\"][\"vasprun\"]\n",
    "    bulk_entry = bulk_vasprun.get_computed_entry(inc_structure=False)\n",
    "    def_entry = defect_entries[0]\n",
    "    # raise runtime error if bulk_entry is not provided\n",
    "    with pytest.raises(RuntimeError):\n",
    "        def_entry.get_ediff()\n",
    "\n",
    "    def_entry.bulk_entry = bulk_entry\n",
    "    ediff = def_entry.sc_entry.energy - bulk_entry.energy\n",
    "    print(ediff)\n",
    "    assert def_entry.get_ediff() == pytest.approx(ediff, abs=1e-4)"
   ]
  },
  {
   "cell_type": "code",
   "execution_count": 9,
   "metadata": {},
   "outputs": [
    {
     "name": "stderr",
     "output_type": "stream",
     "text": [
      "/Users/siyuliu/anaconda3/envs/macbot/lib/python3.11/site-packages/pymatgen/io/vasp/outputs.py:1182: UserWarning: No POTCAR file with matching TITEL fields was found in\n",
      "\n",
      "  warnings.warn(\"No POTCAR file with matching TITEL fields was found in\\n\" + \"\\n  \".join(potcar_paths))\n"
     ]
    },
    {
     "name": "stdout",
     "output_type": "stream",
     "text": [
      "2.8381543899999997\n"
     ]
    },
    {
     "data": {
      "image/png": "[encoded data removed]",
      "text/plain": [
       "<Figure size 640x480 with 1 Axes>"
      ]
     },
     "metadata": {},
     "output_type": "display_data"
    },
    {
     "data": {
      "image/png": "[encoded data removed]",
      "text/plain": [
       "<Figure size 640x480 with 1 Axes>"
      ]
     },
     "metadata": {},
     "output_type": "display_data"
    }
   ],
   "source": [
    "test_defect_entry(defect_entries_and_plot_data_Mg_Ga(data_Mg_Ga(test_dir()), defect_Mg_Ga(gan_struct(test_dir()))), data_Mg_Ga(test_dir()))"
   ]
  },
  {
   "cell_type": "code",
   "execution_count": 10,
   "metadata": {},
   "outputs": [],
   "source": [
    "def formation_energy_diagram(\n",
    "    data_Mg_Ga, defect_entries_and_plot_data_Mg_Ga, stable_entries_Mg_Ga_N\n",
    "):\n",
    "    bulk_vasprun = data_Mg_Ga[\"bulk_sc\"][\"vasprun\"]\n",
    "    bulk_bs = bulk_vasprun.get_band_structure()\n",
    "    vbm = bulk_bs.get_vbm()[\"energy\"]\n",
    "    bulk_entry = bulk_vasprun.get_computed_entry(inc_structure=False)\n",
    "    defect_entries, _ = defect_entries_and_plot_data_Mg_Ga\n",
    "\n",
    "    def_ent_list = list(defect_entries.values())\n",
    "    # test the constructor with materials project phase diagram\n",
    "    atomic_entries = list(\n",
    "        filter(lambda x: len(x.composition.elements) == 1, stable_entries_Mg_Ga_N)\n",
    "    )\n",
    "    pd = PhaseDiagram(stable_entries_Mg_Ga_N)\n",
    "\n",
    "    # test basic constructor\n",
    "    fed_ = FormationEnergyDiagram(\n",
    "        bulk_entry=bulk_entry,\n",
    "        defect_entries=def_ent_list,\n",
    "        vbm=vbm,\n",
    "        pd_entries=stable_entries_Mg_Ga_N,\n",
    "        inc_inf_values=True,  # include the two additional points at infinity\n",
    "    )\n",
    "    assert len(fed_.chempot_limits) == 5\n",
    "\n",
    "    # test the constructor with atomic entries\n",
    "    # this is the one we will use for the rest of the tests\n",
    "    fed = FormationEnergyDiagram.with_atomic_entries(\n",
    "        defect_entries=def_ent_list,\n",
    "        atomic_entries=atomic_entries,\n",
    "        vbm=vbm,\n",
    "        inc_inf_values=False,\n",
    "        phase_diagram=pd,\n",
    "        bulk_entry=bulk_entry,\n",
    "    )\n",
    "    assert len(fed.chempot_limits) == 3\n",
    "\n",
    "    # dataframe conversion\n",
    "    df = fed.as_dataframe()\n",
    "    assert df.shape == (4, 5)\n",
    "\n",
    "    # test that you can get the Ga-rich chempot\n",
    "    cp = fed.get_chempots(rich_element=Element(\"Ga\"))\n",
    "    assert cp[Element(\"Ga\")] == pytest.approx(0, abs=1e-2)\n",
    "\n",
    "    return fed"
   ]
  },
  {
   "cell_type": "code",
   "execution_count": 16,
   "metadata": {},
   "outputs": [
    {
     "name": "stderr",
     "output_type": "stream",
     "text": [
      "/Users/siyuliu/anaconda3/envs/macbot/lib/python3.11/site-packages/pymatgen/io/vasp/outputs.py:1182: UserWarning: No POTCAR file with matching TITEL fields was found in\n",
      "\n",
      "  warnings.warn(\"No POTCAR file with matching TITEL fields was found in\\n\" + \"\\n  \".join(potcar_paths))\n"
     ]
    },
    {
     "name": "stdout",
     "output_type": "stream",
     "text": [
      "[0.0, 0.4230302543993645, 4.302142813614765, 5.0]\n",
      "[5.274826931985871, 5.274826931985871, 1.3957143727704704, 0.0]\n",
      "[0.0, 0.4230302543993645, 4.302142813614765, 5.0]\n",
      "[5.274826931985871, 5.274826931985871, 1.3957143727704704, 0.0]\n",
      "[0.0, 0.4230302543993647, 4.302142813614765, 5.0]\n",
      "[5.274826931985871, 5.274826931985871, 1.3957143727704704, 0.0]\n",
      "[0.0, 0.4230302543993645, 4.302142813614765, 5.0]\n",
      "[5.274826931985871, 5.274826931985871, 1.3957143727704704, 0.0]\n"
     ]
    }
   ],
   "source": [
    "\n",
    "def test_formation_energy_diagram_shape_fixed(formation_energy_diagram) -> None:\n",
    "    fed = copy.deepcopy(formation_energy_diagram)\n",
    "\n",
    "    # check that the shape of the formation energy diagram does not change\n",
    "    cp_dict = fed.chempot_limits[0]\n",
    "    form_en = np.array(fed.get_transitions(cp_dict, 0, 5))\n",
    "    x_ref = form_en[:, 0]\n",
    "    y_ref = form_en[:, 1]\n",
    "    y_ref = y_ref - y_ref.min()\n",
    "    print(x_ref.tolist())\n",
    "    print(y_ref.tolist())\n",
    "    for point in fed.chempot_limits:\n",
    "        form_en = np.array(fed.get_transitions(point, 0, 5))\n",
    "        x = form_en[:, 0]\n",
    "        y = form_en[:, 1]\n",
    "        y = y - y.min()\n",
    "        print(x.tolist())\n",
    "        print(y.tolist())\n",
    "        assert np.allclose(x, x_ref)\n",
    "        assert np.allclose(y, y_ref)\n",
    "test_formation_energy_diagram_shape_fixed(formation_energy_diagram(data_Mg_Ga(test_dir()), defect_entries_and_plot_data_Mg_Ga(data_Mg_Ga(test_dir()), defect_Mg_Ga(gan_struct(test_dir()))), loadfn(test_dir() / \"stable_entries_Mg_Ga_N.json\")))"
   ]
  },
  {
   "cell_type": "code",
   "execution_count": 19,
   "metadata": {},
   "outputs": [],
   "source": [
    "def test_formation_from_directory(\n",
    "    test_dir, stable_entries_Mg_Ga_N, defect_Mg_Ga\n",
    ") -> None:\n",
    "    sc_dir = test_dir / \"Mg_Ga\"\n",
    "    qq = []\n",
    "    for q in [-1, 0, 1]:\n",
    "        qq.append(q)\n",
    "        dmap = {\"bulk\": sc_dir / \"bulk_sc\"}\n",
    "        dmap.update(zip(qq, map(lambda x: sc_dir / f\"q={x}\", qq)))\n",
    "        \n",
    "        assert len(dmap) == len(qq) + 1\n",
    "        fed = FormationEnergyDiagram.with_directories(\n",
    "            directory_map=dmap,\n",
    "            defect=defect_Mg_Ga,\n",
    "            pd_entries=stable_entries_Mg_Ga_N,\n",
    "            dielectric=10,\n",
    "        )\n",
    "        trans = fed.get_transitions(fed.chempot_limits[1], x_min=-100, x_max=100)\n",
    "        \n",
    "        assert len(trans) == 1 + len(qq)\n",
    "    print(len(dmap))\n",
    "    print(len(trans))"
   ]
  },
  {
   "cell_type": "code",
   "execution_count": 20,
   "metadata": {},
   "outputs": [
    {
     "name": "stdout",
     "output_type": "stream",
     "text": [
      "4\n",
      "4\n"
     ]
    }
   ],
   "source": [
    "test_formation_from_directory(test_dir(), loadfn(test_dir() / \"stable_entries_Mg_Ga_N.json\"), defect_Mg_Ga(gan_struct(test_dir())))"
   ]
  },
  {
   "cell_type": "code",
   "execution_count": 3,
   "metadata": {},
   "outputs": [
    {
     "name": "stdout",
     "output_type": "stream",
     "text": [
      "[[2. 2. 2. 2. 2.]\n",
      " [2. 2. 2. 2. 2.]\n",
      " [2. 2. 2. 2. 2.]]\n"
     ]
    }
   ],
   "source": [
    "import numpy as np\n",
    "print(np.ones((3, 5)) * 2)"
   ]
  },
  {
   "cell_type": "code",
   "execution_count": 4,
   "metadata": {},
   "outputs": [],
   "source": [
    "from collections import namedtuple\n",
    "import numpy as np\n",
    "import pandas as pd\n",
    "import pytest\n",
    "from pymatgen.analysis.defects.ccd import (\n",
    "    HarmonicDefect,\n",
    "    _get_wswq_slope,\n",
    "    plot_pes,\n",
    ")\n",
    "from pymatgen.analysis.defects.plotting.optics import plot_optical_transitions\n",
    "from pymatgen.io.vasp.outputs import Waveder"
   ]
  },
  {
   "cell_type": "code",
   "execution_count": 8,
   "metadata": {},
   "outputs": [],
   "source": [
    "def test_dielectric_func(test_dir) -> None:\n",
    "    dir0_opt = test_dir / \"v_Ga\" / \"ccd_0_-1\" / \"optics\"\n",
    "    hd0 = HarmonicDefect.from_directories(\n",
    "        directories=[dir0_opt],\n",
    "        store_bandstructure=True,\n",
    "    )\n",
    "    hd0.waveder = Waveder.from_binary(dir0_opt / \"WAVEDER\")\n",
    "    energy, eps_vbm, eps_cbm = hd0.get_dielectric_function(idir=0, jdir=0)\n",
    "    inter_vbm = np.trapz(np.imag(eps_vbm[:100]), energy[:100])\n",
    "    inter_cbm = np.trapz(np.imag(eps_cbm[:100]), energy[:100])\n",
    "    assert pytest.approx(inter_vbm, abs=0.01) == 6.31\n",
    "    assert pytest.approx(inter_cbm, abs=0.01) == 0.27\n",
    "\n",
    "    df, cmap, norm = plot_optical_transitions(hd0, kpt_index=0, band_window=5)\n",
    "    assert isinstance(df, pd.DataFrame)\n",
    "    assert len(df) == 11\n",
    "\n",
    "    df, cmap, norm = plot_optical_transitions(\n",
    "        hd0,\n",
    "        kpt_index=-100,\n",
    "        band_window=5,\n",
    "        user_defect_band=(100, 0, 0),\n",
    "        shift_eig={100: 0},\n",
    "    )\n",
    "    assert df.iloc[5][\"ib\"] == 100\n",
    "    assert df.iloc[5][\"jb\"] == 100"
   ]
  },
  {
   "cell_type": "code",
   "execution_count": 9,
   "metadata": {},
   "outputs": [
    {
     "name": "stderr",
     "output_type": "stream",
     "text": [
      "/Users/siyuliu/anaconda3/envs/macbot/lib/python3.11/site-packages/pymatgen/analysis/defects/ccd.py:618: OptimizeWarning: Covariance of the parameters could not be estimated\n",
      "  popt, _ = curve_fit(f, Q, energy)\n",
      "552it [00:00, 37039.35it/s]\n",
      "312it [00:00, 36918.77it/s]\n"
     ]
    },
    {
     "data": {
      "image/png": "[encoded data removed]",
      "text/plain": [
       "<Figure size 640x480 with 1 Axes>"
      ]
     },
     "metadata": {},
     "output_type": "display_data"
    }
   ],
   "source": [
    "test_dielectric_func(test_dir())"
   ]
  },
  {
   "cell_type": "code",
   "execution_count": 17,
   "metadata": {},
   "outputs": [],
   "source": [
    "import numpy as np\n",
    "from pymatgen.analysis.defects.supercells import (\n",
    "    get_sc_fromstruct,\n",
    ")\n",
    "def test_supercells(gan_struct) -> None:\n",
    "    uc = gan_struct.copy()\n",
    "    sc_mat = get_sc_fromstruct(uc)\n",
    "    sc = uc * sc_mat\n",
    "    print(sc_mat)\n",
    "    print(sc)\n",
    "    print(uc)\n",
    "\n",
    "    # sc_mat2, _ = get_matched_structure_mapping(uc, sc)\n",
    "    # assert sc_mat2.shape == (3, 3)\n",
    "    # sc2 = uc * sc_mat2\n",
    "    # np.testing.assert_allclose(\n",
    "    #     sc.lattice.abc, sc2.lattice.abc\n",
    "    # )  # the sc_mat can be reconstructed from the sc"
   ]
  },
  {
   "cell_type": "code",
   "execution_count": 18,
   "metadata": {},
   "outputs": [
    {
     "name": "stdout",
     "output_type": "stream",
     "text": [
      "[[ 4  4  0]\n",
      " [-2  2  0]\n",
      " [ 0  0  2]]\n",
      "Full Formula (Ga64 N64)\n",
      "Reduced Formula: GaN\n",
      "abc   :  12.865160  11.141556  10.479924\n",
      "angles:  90.000000  90.000000  90.000000\n",
      "pbc   :       True       True       True\n",
      "Sites (128)\n",
      "  #  SP        a         b        c\n",
      "---  ----  -----  --------  -------\n",
      "  0  Ga    0.125  0.416666  0.24956\n",
      "  1  Ga    0.125  0.416666  0.74956\n",
      "  2  Ga    0.25   0.666666  0.24956\n",
      "  3  Ga    0.25   0.666666  0.74956\n",
      "  4  Ga    0.125  0.916667  0.24956\n",
      "  5  Ga    0.125  0.916667  0.74956\n",
      "  6  Ga    0.25   0.166667  0.24956\n",
      "  7  Ga    0.25   0.166667  0.74956\n",
      "  8  Ga    0.375  0.416666  0.24956\n",
      "  9  Ga    0.375  0.416666  0.74956\n",
      " 10  Ga    0.5    0.666666  0.24956\n",
      " 11  Ga    0.5    0.666666  0.74956\n",
      " 12  Ga    0.375  0.916667  0.24956\n",
      " 13  Ga    0.375  0.916667  0.74956\n",
      " 14  Ga    0.5    0.166667  0.24956\n",
      " 15  Ga    0.5    0.166667  0.74956\n",
      " 16  Ga    0.625  0.416666  0.24956\n",
      " 17  Ga    0.625  0.416666  0.74956\n",
      " 18  Ga    0.75   0.666666  0.24956\n",
      " 19  Ga    0.75   0.666666  0.74956\n",
      " 20  Ga    0.625  0.916667  0.24956\n",
      " 21  Ga    0.625  0.916667  0.74956\n",
      " 22  Ga    0.75   0.166667  0.24956\n",
      " 23  Ga    0.75   0.166667  0.74956\n",
      " 24  Ga    0.875  0.416666  0.24956\n",
      " 25  Ga    0.875  0.416666  0.74956\n",
      " 26  Ga    0      0.666666  0.24956\n",
      " 27  Ga    0      0.666666  0.74956\n",
      " 28  Ga    0.875  0.916667  0.24956\n",
      " 29  Ga    0.875  0.916667  0.74956\n",
      " 30  Ga    0      0.166667  0.24956\n",
      " 31  Ga    0      0.166667  0.74956\n",
      " 32  Ga    0.125  0.583334  0.49956\n",
      " 33  Ga    0.125  0.583334  0.99956\n",
      " 34  Ga    0.25   0.833334  0.49956\n",
      " 35  Ga    0.25   0.833334  0.99956\n",
      " 36  Ga    0.125  0.083334  0.49956\n",
      " 37  Ga    0.125  0.083334  0.99956\n",
      " 38  Ga    0.25   0.333334  0.49956\n",
      " 39  Ga    0.25   0.333334  0.99956\n",
      " 40  Ga    0.375  0.583334  0.49956\n",
      " 41  Ga    0.375  0.583334  0.99956\n",
      " 42  Ga    0.5    0.833334  0.49956\n",
      " 43  Ga    0.5    0.833334  0.99956\n",
      " 44  Ga    0.375  0.083334  0.49956\n",
      " 45  Ga    0.375  0.083334  0.99956\n",
      " 46  Ga    0.5    0.333334  0.49956\n",
      " 47  Ga    0.5    0.333334  0.99956\n",
      " 48  Ga    0.625  0.583334  0.49956\n",
      " 49  Ga    0.625  0.583334  0.99956\n",
      " 50  Ga    0.75   0.833334  0.49956\n",
      " 51  Ga    0.75   0.833334  0.99956\n",
      " 52  Ga    0.625  0.083334  0.49956\n",
      " 53  Ga    0.625  0.083334  0.99956\n",
      " 54  Ga    0.75   0.333334  0.49956\n",
      " 55  Ga    0.75   0.333334  0.99956\n",
      " 56  Ga    0.875  0.583334  0.49956\n",
      " 57  Ga    0.875  0.583334  0.99956\n",
      " 58  Ga    0      0.833334  0.49956\n",
      " 59  Ga    0      0.833334  0.99956\n",
      " 60  Ga    0.875  0.083334  0.49956\n",
      " 61  Ga    0.875  0.083334  0.99956\n",
      " 62  Ga    0      0.333334  0.49956\n",
      " 63  Ga    0      0.333334  0.99956\n",
      " 64  N     0.125  0.416666  0.43794\n",
      " 65  N     0.125  0.416666  0.93794\n",
      " 66  N     0.25   0.666666  0.43794\n",
      " 67  N     0.25   0.666666  0.93794\n",
      " 68  N     0.125  0.916667  0.43794\n",
      " 69  N     0.125  0.916667  0.93794\n",
      " 70  N     0.25   0.166667  0.43794\n",
      " 71  N     0.25   0.166667  0.93794\n",
      " 72  N     0.375  0.416666  0.43794\n",
      " 73  N     0.375  0.416666  0.93794\n",
      " 74  N     0.5    0.666666  0.43794\n",
      " 75  N     0.5    0.666666  0.93794\n",
      " 76  N     0.375  0.916667  0.43794\n",
      " 77  N     0.375  0.916667  0.93794\n",
      " 78  N     0.5    0.166667  0.43794\n",
      " 79  N     0.5    0.166667  0.93794\n",
      " 80  N     0.625  0.416666  0.43794\n",
      " 81  N     0.625  0.416666  0.93794\n",
      " 82  N     0.75   0.666666  0.43794\n",
      " 83  N     0.75   0.666666  0.93794\n",
      " 84  N     0.625  0.916667  0.43794\n",
      " 85  N     0.625  0.916667  0.93794\n",
      " 86  N     0.75   0.166667  0.43794\n",
      " 87  N     0.75   0.166667  0.93794\n",
      " 88  N     0.875  0.416666  0.43794\n",
      " 89  N     0.875  0.416666  0.93794\n",
      " 90  N     0      0.666666  0.43794\n",
      " 91  N     0      0.666666  0.93794\n",
      " 92  N     0.875  0.916667  0.43794\n",
      " 93  N     0.875  0.916667  0.93794\n",
      " 94  N     0      0.166667  0.43794\n",
      " 95  N     0      0.166667  0.93794\n",
      " 96  N     0.125  0.583334  0.18794\n",
      " 97  N     0.125  0.583334  0.68794\n",
      " 98  N     0.25   0.833334  0.18794\n",
      " 99  N     0.25   0.833334  0.68794\n",
      "100  N     0.125  0.083334  0.18794\n",
      "101  N     0.125  0.083334  0.68794\n",
      "102  N     0.25   0.333334  0.18794\n",
      "103  N     0.25   0.333334  0.68794\n",
      "104  N     0.375  0.583334  0.18794\n",
      "105  N     0.375  0.583334  0.68794\n",
      "106  N     0.5    0.833334  0.18794\n",
      "107  N     0.5    0.833334  0.68794\n",
      "108  N     0.375  0.083334  0.18794\n",
      "109  N     0.375  0.083334  0.68794\n",
      "110  N     0.5    0.333334  0.18794\n",
      "111  N     0.5    0.333334  0.68794\n",
      "112  N     0.625  0.583334  0.18794\n",
      "113  N     0.625  0.583334  0.68794\n",
      "114  N     0.75   0.833334  0.18794\n",
      "115  N     0.75   0.833334  0.68794\n",
      "116  N     0.625  0.083334  0.18794\n",
      "117  N     0.625  0.083334  0.68794\n",
      "118  N     0.75   0.333334  0.18794\n",
      "119  N     0.75   0.333334  0.68794\n",
      "120  N     0.875  0.583334  0.18794\n",
      "121  N     0.875  0.583334  0.68794\n",
      "122  N     0      0.833334  0.18794\n",
      "123  N     0      0.833334  0.68794\n",
      "124  N     0.875  0.083334  0.18794\n",
      "125  N     0.875  0.083334  0.68794\n",
      "126  N     0      0.333334  0.18794\n",
      "127  N     0      0.333334  0.68794\n",
      "Full Formula (Ga2 N2)\n",
      "Reduced Formula: GaN\n",
      "abc   :   3.216290   3.216290   5.239962\n",
      "angles:  90.000000  90.000000 120.000003\n",
      "pbc   :       True       True       True\n",
      "Sites (4)\n",
      "  #  SP           a         b        c\n",
      "---  ----  --------  --------  -------\n",
      "  0  Ga    0.666667  0.333333  0.49912\n",
      "  1  Ga    0.333333  0.666667  0.99912\n",
      "  2  N     0.666667  0.333333  0.87588\n",
      "  3  N     0.333333  0.666667  0.37588\n",
      "None\n"
     ]
    }
   ],
   "source": [
    "print(test_supercells(gan_struct(test_dir())))"
   ]
  },
  {
   "cell_type": "code",
   "execution_count": 21,
   "metadata": {},
   "outputs": [
    {
     "data": {
      "text/plain": [
       "[[0, 0, 0], [0.25, 0.25, 0.25], [0.5, 0.5, 0.5], [0.75, 0.75, 0.75]]"
      ]
     },
     "execution_count": 21,
     "metadata": {},
     "output_type": "execute_result"
    }
   ],
   "source": [
    "sorted([[0, 0, 0], [0.25, 0.25, 0.25], [0.5, 0.5, 0.5], [0.75, 0.75, 0.75]])"
   ]
  },
  {
   "cell_type": "code",
   "execution_count": 22,
   "metadata": {},
   "outputs": [],
   "source": [
    "import numpy as np\n",
    "from pymatgen.analysis.defects.utils import (\n",
    "    get_avg_chg,\n",
    ")\n",
    "from pymatgen.io.vasp.outputs import Chgcar\n",
    "def test_get_avg_chg(gan_struct) -> None:\n",
    "    data = np.ones((48, 48, 48))\n",
    "    chgcar = Chgcar(poscar=gan_struct, data={\"total\": data})\n",
    "    fpos = [0.1, 0.1, 0.1]\n",
    "    avg_chg_sphere = get_avg_chg(chgcar, fpos)\n",
    "    print(avg_chg_sphere)\n",
    "    avg_chg = np.sum(chgcar.data[\"total\"]) / chgcar.ngridpts / chgcar.structure.volume\n",
    "    print(avg_chg)\n"
   ]
  },
  {
   "cell_type": "code",
   "execution_count": 23,
   "metadata": {},
   "outputs": [
    {
     "name": "stdout",
     "output_type": "stream",
     "text": [
      "0.021302511375915358\n",
      "0.021302511375915358\n"
     ]
    }
   ],
   "source": [
    "test_get_avg_chg(gan_struct(test_dir()))"
   ]
  },
  {
   "cell_type": "code",
   "execution_count": 33,
   "metadata": {},
   "outputs": [],
   "source": [
    "from pymatgen.analysis.defects.utils import (\n",
    "    ChargeInsertionAnalyzer,\n",
    ")\n",
    "def chgcar_fe3o4(test_dir):\n",
    "    return Chgcar.from_file(test_dir / \"CHGCAR.Fe3O4.vasp\")\n",
    "def test_chgcar_insertion(chgcar_fe3o4) -> None:\n",
    "    chgcar = chgcar_fe3o4\n",
    "    insert_ref = [\n",
    "        (\n",
    "            0.03692438178614583,\n",
    "            [[0.0, 0.0, 0.0], [0.0, 0.0, 0.5], [0.0, 0.5, 0.0], [0.5, 0.0, 0.0]],\n",
    "        ),  # corners and edge centers\n",
    "        (\n",
    "            0.10068764899215804,\n",
    "            [[0.375, 0.375, 0.375], [0.625, 0.625, 0.625]],\n",
    "        ),  # center of Fe-O cages\n",
    "    ]\n",
    "    cia = ChargeInsertionAnalyzer(chgcar)\n",
    "    insert_groups = cia.filter_and_group(max_avg_charge=0.5)\n",
    "    for avg_chg, group in insert_groups:\n",
    "        print(avg_chg)\n",
    "        print(group)"
   ]
  },
  {
   "cell_type": "code",
   "execution_count": 34,
   "metadata": {},
   "outputs": [
    {
     "name": "stdout",
     "output_type": "stream",
     "text": [
      "0.036924381786179954\n",
      "[[0.0, 0.0, 0.5], [0.0, 0.5, 0.0], [0.5, 0.0, 0.0], [0.0, 0.0, 0.0]]\n",
      "0.1006876477006408\n",
      "[[0.375, 0.375, 0.375], [0.625, 0.625, 0.625]]\n"
     ]
    }
   ],
   "source": [
    "test_chgcar_insertion(chgcar_fe3o4(test_dir()))"
   ]
  },
  {
   "cell_type": "code",
   "execution_count": 2,
   "metadata": {},
   "outputs": [
    {
     "name": "stdout",
     "output_type": "stream",
     "text": [
      "8.229095652886732\n",
      "8.227688936841835\n"
     ]
    }
   ],
   "source": [
    "import numpy as np\n",
    "from pymatgen.analysis.defects.recombination import (\n",
    "    pchip_eval,\n",
    ")\n",
    "def test_pchip_eval() -> None:\n",
    "    x_c = np.linspace(0, 2, 5)\n",
    "    y_c = np.sin(x_c) + 1\n",
    "    xx = np.linspace(-3, 3, 1000)\n",
    "    fx = pchip_eval(xx, x_coarse=x_c, y_coarse=y_c)\n",
    "    int_val = np.trapz(np.nan_to_num(fx), x=xx)\n",
    "    int_ref = np.sum(y_c)\n",
    "    print(int_val)\n",
    "    print(int_ref)\n",
    "    # assert int_val == pytest.approx(int_ref, rel=1e-3)\n",
    "test_pchip_eval()"
   ]
  },
  {
   "cell_type": "code",
   "execution_count": 3,
   "metadata": {},
   "outputs": [
    {
     "data": {
      "text/plain": [
       "array([6.97397183e-31, 6.98245178e-31, 7.38666936e-31], dtype=float64)"
      ]
     },
     "execution_count": 3,
     "metadata": {},
     "output_type": "execute_result"
    }
   ],
   "source": [
    "from pymatgen.analysis.defects.recombination import (\n",
    "    get_Rad_coef,\n",
    ")\n",
    "get_Rad_coef(\n",
    "        T=[100, 200, 300],\n",
    "        dQ=1.0,\n",
    "        dE=1.0,\n",
    "        omega_i=0.2,\n",
    "        omega_f=0.2,\n",
    "        omega_photon=0.6,\n",
    "        dipole_me=1,\n",
    "        volume=1,\n",
    "        g=1,\n",
    "    )"
   ]
  },
  {
   "cell_type": "code",
   "execution_count": 4,
   "metadata": {},
   "outputs": [
    {
     "name": "stdout",
     "output_type": "stream",
     "text": [
      "Number of folders: 49\n"
     ]
    }
   ],
   "source": [
    "import os\n",
    "\n",
    "def count_folders_in_directory(directory_path):\n",
    "    return sum(os.path.isdir(os.path.join(directory_path, name)) for name in os.listdir(directory_path))\n",
    "\n",
    "directory_path = \"/Users/siyuliu/Desktop/MacBot/src/question_segments/pymatgen_analysis_defects\"\n",
    "folder_count = count_folders_in_directory(directory_path)\n",
    "print(f\"Number of folders: {folder_count}\")\n"
   ]
  }
 ],
 "metadata": {
  "kernelspec": {
   "display_name": "mattoolben",
   "language": "python",
   "name": "python3"
  },
  "language_info": {
   "codemirror_mode": {
    "name": "ipython",
    "version": 3
   },
   "file_extension": ".py",
   "mimetype": "text/x-python",
   "name": "python",
   "nbconvert_exporter": "python",
   "pygments_lexer": "ipython3",
   "version": "3.13.2"
  }
 },
 "nbformat": 4,
 "nbformat_minor": 2
}
